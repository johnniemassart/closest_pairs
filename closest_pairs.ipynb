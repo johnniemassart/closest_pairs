{
 "cells": [
  {
   "cell_type": "markdown",
   "metadata": {},
   "source": [
    "<p>closest pairs algorithm implementation_</p>\n",
    "<p>→ return the distances between the m closest pairs of points, including their x and y coordinates.</p>"
   ]
  },
  {
   "cell_type": "code",
   "execution_count": 29,
   "metadata": {},
   "outputs": [],
   "source": [
    "# necessary imports\n",
    "import math"
   ]
  },
  {
   "cell_type": "code",
   "execution_count": null,
   "metadata": {},
   "outputs": [],
   "source": [
    "# read user input\n"
   ]
  },
  {
   "cell_type": "code",
   "execution_count": 60,
   "metadata": {},
   "outputs": [
    {
     "name": "stdout",
     "output_type": "stream",
     "text": [
      "[True, 'Valid request.']\n"
     ]
    }
   ],
   "source": [
    "# function that error checks for valid m input\n",
    "def valid_m_input(n, m):\n",
    "    possible_combinations = int((n*(n-1))/2)\n",
    "    if m > possible_combinations:\n",
    "        return [False, f\"Value of m, {m}, is requesting more than the possible combinations, {possible_combinations}.\"]\n",
    "    else:\n",
    "        return [True, \"Valid request.\"]\n",
    "\n",
    "print(valid_m_input(6, 3))"
   ]
  },
  {
   "cell_type": "code",
   "execution_count": 55,
   "metadata": {},
   "outputs": [],
   "source": [
    "# function that returns the euclidean distance\n",
    "def euc_dist(x1, y1, x2, y2):\n",
    "    return math.sqrt(((x1-x2)**2) + ((y1-y2)**2))"
   ]
  },
  {
   "cell_type": "code",
   "execution_count": 56,
   "metadata": {},
   "outputs": [],
   "source": [
    "data = [(10, 10), (15, 10), (20, 5), (49, 49), (30, 10), (50, 50)]"
   ]
  },
  {
   "cell_type": "markdown",
   "metadata": {},
   "source": [
    "<p>merge sort algorithm to sort the data according to x values</p>"
   ]
  },
  {
   "cell_type": "code",
   "execution_count": 39,
   "metadata": {},
   "outputs": [
    {
     "name": "stdout",
     "output_type": "stream",
     "text": [
      "[(10, 10), (15, 10), (20, 5), (30, 10), (49, 49), (50, 50)]\n"
     ]
    }
   ],
   "source": [
    "def merge_sort(data):\n",
    "    data_length = len(data)\n",
    "    if data_length < 2:\n",
    "        return\n",
    "    mid = data_length // 2\n",
    "    left_list = []\n",
    "    for idx, element in enumerate(data):\n",
    "        if idx == mid:\n",
    "            break\n",
    "        left_list.append(element)\n",
    "    right_list = []\n",
    "    for idx, element in enumerate(data):\n",
    "        if idx < mid:\n",
    "            continue\n",
    "        right_list.append(element)\n",
    "    merge_sort(left_list)\n",
    "    merge_sort(right_list)\n",
    "    merge(data, left_list, right_list)\n",
    "    \n",
    "\n",
    "def merge(data, left_list, right_list):\n",
    "    left_list_size = len(left_list)\n",
    "    right_list_size = len(right_list)\n",
    "    i, j, k = 0, 0, 0\n",
    "    while (i < left_list_size and j < right_list_size):\n",
    "        if left_list[i][0] <= right_list[j][0]:\n",
    "            data[k] = left_list[i]\n",
    "            i += 1\n",
    "        else:\n",
    "            data[k] = right_list[j]\n",
    "            j += 1\n",
    "        k += 1\n",
    "    while i < left_list_size:\n",
    "        data[k] = left_list[i]\n",
    "        i += 1\n",
    "        k += 1\n",
    "    while j < right_list_size:\n",
    "        data[k] = right_list[j]\n",
    "        j += 1\n",
    "        k += 1\n",
    "\n",
    "\n",
    "merge_sort(data)\n",
    "print(data)\n"
   ]
  },
  {
   "cell_type": "markdown",
   "metadata": {},
   "source": [
    "<p>nested for loops depicted below; not efficient, but a start.</p>"
   ]
  },
  {
   "cell_type": "code",
   "execution_count": 40,
   "metadata": {},
   "outputs": [
    {
     "name": "stdout",
     "output_type": "stream",
     "text": [
      "[1.4142135623730951, [(49, 49), (50, 50)]]\n"
     ]
    }
   ],
   "source": [
    "def closest_pairs_nested(data):\n",
    "    dist = 0\n",
    "    shortest_path = math.inf\n",
    "    for i in range(len(data)):\n",
    "        for j in range(i+1, len(data)):\n",
    "            dist = euc_dist(data[i][0], data[i][1], data[j][0], data[j][1])\n",
    "            if dist < shortest_path:\n",
    "                shortest_path = dist\n",
    "                closest_pair = []\n",
    "                closest_pair.append((data[i][0], data[i][1]))\n",
    "                closest_pair.append((data[j][0], data[j][1]))\n",
    "    return [shortest_path, closest_pair]\n",
    "\n",
    "print(closest_pairs_nested(data))"
   ]
  },
  {
   "cell_type": "code",
   "execution_count": 162,
   "metadata": {},
   "outputs": [
    {
     "name": "stdout",
     "output_type": "stream",
     "text": [
      "[[[(49, 49), (50, 50)]], [[(10, 10), (15, 10)]], [[(15, 10), (20, 5)]]]\n"
     ]
    }
   ],
   "source": [
    "# account for m number of pairs of points\n",
    "def closest_pairs_nested(data, m=0):\n",
    "    dist = 0\n",
    "    shortest_path = math.inf\n",
    "    closest_pair = []\n",
    "    for i in range(len(data)):\n",
    "        for j in range(i+1, len(data)):\n",
    "            closest_pair.append([(data[i][0], data[i][1]), (data[j][0], data[j][1])])\n",
    "            dist = euc_dist(data[i][0], data[i][1], data[j][0], data[j][1])\n",
    "            if dist < shortest_path:\n",
    "                shortest_path = dist\n",
    "    top_some_num = []\n",
    "    for i in range(m):\n",
    "        short_dist = math.inf\n",
    "        short_idx_loc = 0\n",
    "        for j in range(len(closest_pair)):\n",
    "            current_dist = euc_dist(closest_pair[j][0][0], closest_pair[j][0][1], closest_pair[j][1][0], closest_pair[j][1][0])\n",
    "            if current_dist < short_dist:\n",
    "                short_dist = current_dist\n",
    "                short_idx_loc = j\n",
    "                short_pairs = []\n",
    "                short_pairs.append(closest_pair[j])\n",
    "        closest_pair.pop(short_idx_loc)\n",
    "        top_some_num.append(short_pairs)\n",
    "\n",
    "    return [shortest_path, top_some_num]\n",
    "\n",
    "print(closest_pairs_nested(data, 3)[1])\n",
    "\n"
   ]
  },
  {
   "cell_type": "markdown",
   "metadata": {},
   "source": [
    "<p>divide and conquer</p>"
   ]
  },
  {
   "cell_type": "code",
   "execution_count": 42,
   "metadata": {},
   "outputs": [
    {
     "name": "stdout",
     "output_type": "stream",
     "text": [
      "[(10, 10), (15, 10), (20, 5), (30, 10), (49, 49), (50, 50)]\n"
     ]
    }
   ],
   "source": [
    "def sth(data):\n",
    "    data_length = len(data)\n",
    "    if data_length < 3:\n",
    "        return\n",
    "    mid = data_length // 2\n",
    "    left_list = []\n",
    "    for idx, element in enumerate(data):\n",
    "        if idx == mid:\n",
    "            break\n",
    "        left_list.append(element)\n",
    "    right_list = []\n",
    "    for idx, element in enumerate(data):\n",
    "        if idx < mid:\n",
    "            continue\n",
    "        right_list.append(element)\n",
    "    sth(left_list)\n",
    "    sth(right_list)\n",
    "    sth_merge(data, left_list, right_list)\n",
    "\n",
    "\n",
    "def sth_merge(data, left_list, right_list):\n",
    "    left_list_size = len(left_list)\n",
    "    right_list_size = len(right_list)\n",
    "    i, j, k = 0, 0, 0\n",
    "    while (i < left_list_size and j < right_list_size):\n",
    "        if left_list[i][0] <= right_list[j][0]:\n",
    "            data[k] = left_list[i]\n",
    "            i += 1\n",
    "        else:\n",
    "            data[k] = right_list[j]\n",
    "            j += 1\n",
    "        k += 1\n",
    "    while i < left_list_size:\n",
    "        data[k] = left_list[i]\n",
    "        i += 1\n",
    "        k += 1\n",
    "    while j < right_list_size:\n",
    "        data[k] = right_list[j]\n",
    "        j += 1\n",
    "        k += 1\n",
    "    \n",
    "    \n",
    "\n",
    "\n",
    "sth(data)"
   ]
  }
 ],
 "metadata": {
  "kernelspec": {
   "display_name": "base",
   "language": "python",
   "name": "python3"
  },
  "language_info": {
   "codemirror_mode": {
    "name": "ipython",
    "version": 3
   },
   "file_extension": ".py",
   "mimetype": "text/x-python",
   "name": "python",
   "nbconvert_exporter": "python",
   "pygments_lexer": "ipython3",
   "version": "3.11.5"
  }
 },
 "nbformat": 4,
 "nbformat_minor": 2
}
