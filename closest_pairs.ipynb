{
 "cells": [
  {
   "cell_type": "markdown",
   "metadata": {},
   "source": [
    "<p>closest pairs algorithm implementation_</p>\n",
    "<p>→ return the distances between the m closest pairs of points, including their x and y coordinates.</p>"
   ]
  },
  {
   "cell_type": "code",
   "execution_count": 6,
   "metadata": {},
   "outputs": [],
   "source": [
    "import math"
   ]
  },
  {
   "cell_type": "code",
   "execution_count": 7,
   "metadata": {},
   "outputs": [
    {
     "name": "stdout",
     "output_type": "stream",
     "text": [
      "3.605551275463989\n"
     ]
    }
   ],
   "source": [
    "def euc_dist(x1, y1, x2, y2):\n",
    "    return math.sqrt(((x1-x2)**2) + ((y1-y2)**2))\n",
    "\n",
    "print(euc_dist(5, 7, 2, 9))"
   ]
  },
  {
   "cell_type": "markdown",
   "metadata": {},
   "source": [
    "<p>nested for loops depicted below; not efficient, but a start.</p>"
   ]
  },
  {
   "cell_type": "code",
   "execution_count": 36,
   "metadata": {},
   "outputs": [
    {
     "name": "stdout",
     "output_type": "stream",
     "text": [
      "5.0\n",
      "[(10, 10), (15, 10)]\n"
     ]
    }
   ],
   "source": [
    "data = [(10, 10), (15, 10), (20, 5)]\n",
    "\n",
    "def closest_pairs_nested(data):\n",
    "    dist = 0\n",
    "    shortest_path = math.inf\n",
    "    for i in range(len(data)):\n",
    "        for j in range(i+1, len(data)):\n",
    "            dist = euc_dist(data[i][0], data[i][1], data[j][0], data[j][1])\n",
    "            if dist < shortest_path:\n",
    "                shortest_path = dist\n",
    "                print(shortest_path)\n",
    "                closest_pair = []\n",
    "                closest_pair.append((data[i][0], data[i][1]))\n",
    "                closest_pair.append((data[j][0], data[j][1]))\n",
    "                print(closest_pair)\n",
    "\n",
    "closest_pairs_nested(data)"
   ]
  }
 ],
 "metadata": {
  "kernelspec": {
   "display_name": "base",
   "language": "python",
   "name": "python3"
  },
  "language_info": {
   "codemirror_mode": {
    "name": "ipython",
    "version": 3
   },
   "file_extension": ".py",
   "mimetype": "text/x-python",
   "name": "python",
   "nbconvert_exporter": "python",
   "pygments_lexer": "ipython3",
   "version": "3.11.5"
  }
 },
 "nbformat": 4,
 "nbformat_minor": 2
}
